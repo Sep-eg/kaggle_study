{
  "nbformat": 4,
  "nbformat_minor": 0,
  "metadata": {
    "colab": {
      "name": "ODAD_lv2_1st.ipynb",
      "private_outputs": true,
      "provenance": [],
      "authorship_tag": "ABX9TyMHFH0tPTDqM+neybsCWiKM",
      "include_colab_link": true
    },
    "kernelspec": {
      "name": "python3",
      "display_name": "Python 3"
    },
    "language_info": {
      "name": "python"
    }
  },
  "cells": [
    {
      "cell_type": "markdown",
      "metadata": {
        "id": "view-in-github",
        "colab_type": "text"
      },
      "source": [
        "<a href=\"https://colab.research.google.com/github/Sep-eg/kaggle_study/blob/main/Keggle%20survey/ODAD_lv2_1st.ipynb\" target=\"_parent\"><img src=\"https://colab.research.google.com/assets/colab-badge.svg\" alt=\"Open In Colab\"/></a>"
      ]
    },
    {
      "cell_type": "markdown",
      "metadata": {
        "id": "USpAS7fgq4FR"
      },
      "source": [
        "## Novice to Grandmaster - What Data Scientists say?"
      ]
    },
    {
      "cell_type": "markdown",
      "metadata": {
        "id": "bwe2VwERrCZX"
      },
      "source": [
        "캐글은 이용자가 100만 명이 넘는 세계 최대 데이터 사이언스 플랫폼으로, 나 같은 학생들이 데이터 사이언스, 머신러닝 분야에서 배우고 성장하기 좋은 플랫폼이다. 통계학자, 데이터 과학자, 머신러닝 실무자 등 다양한 영역의 사용자가 있다.Kaggle이 출판한 이 데이터 세트는 데이터를 분석하고 조사하는 것을 좋아하는 저 같은 사람들에게 소중한 것입니다. 이 노트에서는 데이터 과학자가 가장 많이 사용하는 도구와 같이 데이터 과학을 배우기 위한 리소스 등을 알고 싶어 하는 몇 가지 동향 또는 일반적인 질문을 찾아볼 것입니다.\n",
        "\n",
        "우리가 직면할 수 있는 가장 큰 문제는 가짜와 가짜 대응이다. 설문 조사이기 때문에 모든 사람이 제대로 된 자격증으로 답하지는 않을 것이고, 따라서 특이점도 많을 것으로 짐작된다. 데이터 풀로 바로 이동하여 몇 가지 통찰력을 얻도록 하겠습니다"
      ]
    },
    {
      "cell_type": "code",
      "metadata": {
        "id": "-s-EVeW3z7RU"
      },
      "source": [
        "!mkdir -p ~/.kaggle\n",
        "!cp kaggle.json ~/.kaggle/\n",
        "!kaggle datasets download -d kaggle/kaggle-survey-2017"
      ],
      "execution_count": null,
      "outputs": []
    },
    {
      "cell_type": "code",
      "metadata": {
        "id": "f8sBltrd0wtr"
      },
      "source": [
        "!unzip \"kaggle-survey-2017.zip\""
      ],
      "execution_count": null,
      "outputs": []
    },
    {
      "cell_type": "markdown",
      "metadata": {
        "id": "aTE6Gm-qsC1M"
      },
      "source": [
        "## Introduction"
      ]
    },
    {
      "cell_type": "markdown",
      "metadata": {
        "id": "9UTMLvLasF3j"
      },
      "source": [
        "**Who are Data Scientists**\n",
        "\n",
        "데이터 사이언티스트(data scientist)는 데이터를 정리, 관리 및 정리하고, 기술 통계 및 분석을 수행하여 통찰력을 개발하고, 예측 모델을 구축하고, 비즈니스 관련 문제를 해결하는 통계학자 또는 프로그래머입니다. Kaggle에 대한 데이터 과학자의 의견을 들어보겠습니다."
      ]
    },
    {
      "cell_type": "code",
      "metadata": {
        "id": "o-5C0g-11HeB"
      },
      "source": [
        "!pip install squarify\n",
        "!pip install scipy==1.1.0"
      ],
      "execution_count": null,
      "outputs": []
    },
    {
      "cell_type": "code",
      "metadata": {
        "id": "l5CIA6FJqlZ-"
      },
      "source": [
        "import pandas as pd\n",
        "import seaborn as sns\n",
        "import matplotlib.pyplot as plt\n",
        "import squarify\n",
        "plt.style.use('fivethirtyeight')\n",
        "import warnings\n",
        "warnings.filterwarnings('ignore')\n",
        "import numpy as np\n",
        "import plotly.offline as py\n",
        "py.init_notebook_mode(connected=True)\n",
        "import plotly.graph_objs as go\n",
        "import plotly.tools as tls\n",
        "import base64\n",
        "import io\n",
        "from scipy.misc import imread\n",
        "import codecs\n",
        "from IPython.display import HTML\n",
        "from matplotlib_venn import venn2\n",
        "from subprocess import check_output\n",
        "print(check_output([\"ls\"]).decode(\"utf8\"))"
      ],
      "execution_count": null,
      "outputs": []
    },
    {
      "cell_type": "code",
      "metadata": {
        "id": "BHnewP6w2p7j"
      },
      "source": [
        "response=pd.read_csv(\"multipleChoiceResponses.csv\", encoding='ISO-8859-1')"
      ],
      "execution_count": null,
      "outputs": []
    },
    {
      "cell_type": "code",
      "metadata": {
        "id": "N9CSjtfd23uX"
      },
      "source": [
        "response.head()"
      ],
      "execution_count": null,
      "outputs": []
    },
    {
      "cell_type": "markdown",
      "metadata": {
        "id": "_GtkuD1A2_Mm"
      },
      "source": [
        "**Some Basic Analysis**"
      ]
    },
    {
      "cell_type": "code",
      "metadata": {
        "id": "4Ol7k5at26lT"
      },
      "source": [
        "print('The total number of respondents:',response.shape[0])\n",
        "print('Total number of Countries with respondents:',response['Country'].nunique())\n",
        "print('Country with highest respondents:',response['Country'].value_counts().index[0],\n",
        "      'with',response['Country'].value_counts().values[0],'respondents')\n",
        "print('Youngest respondent:',response['Age'].min(),' and Oldest respondent:',response['Age'].max())"
      ],
      "execution_count": null,
      "outputs": []
    },
    {
      "cell_type": "markdown",
      "metadata": {
        "id": "bV1qUAsH3YXH"
      },
      "source": [
        "진짜? 막내 Rspondent는 아직 1살도 안 됐어요. LOL!! 그리고 왜 할아버지는 100살인데도 아직도 코딩하고 계실까? 그것은 가짜 응답일 수도 있습니다."
      ]
    },
    {
      "cell_type": "markdown",
      "metadata": {
        "id": "KgiEgacR3apC"
      },
      "source": [
        "**Gender Split**"
      ]
    },
    {
      "cell_type": "code",
      "metadata": {
        "id": "0ndkZzL83Isi"
      },
      "source": [
        "plt.subplots(figsize=(22,12))\n",
        "sns.countplot(y=response['GenderSelect'],\n",
        "              order=response['GenderSelect'].value_counts().index)\n",
        "plt.show()"
      ],
      "execution_count": null,
      "outputs": []
    },
    {
      "cell_type": "markdown",
      "metadata": {
        "id": "lHX8a5l638qr"
      },
      "source": [
        "그래프는 여성에 비해 남성 응답자가 훨씬 많다는 것을 분명히 보여줍니다. 여성들이 코딩하느라 바빴거나, 아니면 여성들이 코딩하지 않는 것 같아요.:p. 농담입니다."
      ]
    },
    {
      "cell_type": "markdown",
      "metadata": {
        "id": "fu7OihN9xIl9"
      },
      "source": [
        "**Respondents By Country**"
      ]
    },
    {
      "cell_type": "code",
      "metadata": {
        "id": "gn-YzxnOxMee"
      },
      "source": [
        "resp_coun=response['Country'].value_counts()[:15].to_frame()\n",
        "sns.barplot(resp_coun['Country'],resp_coun.index,palette='inferno')\n",
        "plt.title('Top 15 Countries by number of respondents')\n",
        "plt.xlabel('')\n",
        "fig=plt.gcf()\n",
        "fig.set_size_inches(10,10)\n",
        "plt.show()\n",
        "tree=response['Country'].value_counts().to_frame()\n",
        "squarify.plot(sizes=tree['Country'].values,label=tree.index,color=sns.color_palette('RdYlGn_r',52))\n",
        "plt.rcParams.update({'font.size':20})\n",
        "fig=plt.gcf()\n",
        "fig.set_size_inches(40,15)\n",
        "plt.show()"
      ],
      "execution_count": null,
      "outputs": []
    },
    {
      "cell_type": "markdown",
      "metadata": {
        "id": "x7jXiLjDxnzW"
      },
      "source": [
        "미국과 인도는 전체 응답자의 약 1/3을 차지한다. 마찬가지로 칠레는 응답자 수가 가장 적다. 이 그래프는 카글 이용자 대다수가 인도와 미국 출신이라고 할 만큼 충분한가? 카글 전체 이용자는 100만 명이 넘고 응답자는 16k에 불과하기 때문에 그렇게 생각하지 않는다."
      ]
    },
    {
      "cell_type": "markdown",
      "metadata": {
        "id": "bhDctIO3xoQ3"
      },
      "source": [
        "**Compensation**\n",
        "\n",
        "데이터 사이언티스트들은 가장 높은 보수를 받는 개인들 중 하나이다. 평가관의 의견을 확인해 보겠습니다."
      ]
    },
    {
      "cell_type": "code",
      "metadata": {
        "id": "YKgj7C-xxPKs"
      },
      "source": [
        "response['CompensationAmount']=response['CompensationAmount'].str.replace(',','')\n",
        "response['CompensationAmount']=response['CompensationAmount'].str.replace('-','')\n",
        "rates=pd.read_csv('conversionRates.csv')\n",
        "rates.drop('Unnamed: 0',axis=1,inplace=True)\n",
        "salary=response[['CompensationAmount','CompensationCurrency','GenderSelect','Country','CurrentJobTitleSelect']].dropna()\n",
        "salary=salary.merge(rates,left_on='CompensationCurrency',right_on='originCountry',how='left')\n",
        "salary['Salary']=pd.to_numeric(salary['CompensationAmount'])*salary['exchangeRate']\n",
        "print('Maximum Salary is USD $',salary['Salary'].dropna().astype(int).max())\n",
        "print('Minimum Salary is USD $',salary['Salary'].dropna().astype(int).min())\n",
        "print('Median Salary is USD $',salary['Salary'].dropna().astype(int).median())"
      ],
      "execution_count": null,
      "outputs": []
    },
    {
      "cell_type": "markdown",
      "metadata": {
        "id": "BfEWR3QByAyl"
      },
      "source": [
        "저 어마어마한 연봉 좀 봐!! 그것은 심지어 많은 나라의 GDP보다 더 크다. 가짜 응답의 또 다른 예. 최저 연봉은 아마도 학생의 경우일 것이다. 급여의 중위수를 보면 데이터 과학자가 좋은 급여 혜택을 누리고 있음을 알 수 있습니다."
      ]
    },
    {
      "cell_type": "code",
      "metadata": {
        "id": "Kok7i1Htx3sb"
      },
      "source": [
        "plt.subplots(figsize=(15,8))\n",
        "salary=salary[salary['Salary']<1000000]\n",
        "sns.distplot(salary['Salary'])\n",
        "plt.title('Salary Distribution',size=15)\n",
        "plt.show()"
      ],
      "execution_count": null,
      "outputs": []
    },
    {
      "cell_type": "markdown",
      "metadata": {
        "id": "_fBr_YUbySbe"
      },
      "source": [
        "**Compensation by Country**"
      ]
    },
    {
      "cell_type": "code",
      "metadata": {
        "id": "3ngOc3FdyGkt"
      },
      "source": [
        "f,ax=plt.subplots(1,2,figsize=(18,8))\n",
        "sal_coun=salary.groupby('Country')['Salary'].median().sort_values(ascending=False)[:15].to_frame()\n",
        "sns.barplot('Salary',sal_coun.index,data=sal_coun,palette='RdYlGn',ax=ax[0])\n",
        "ax[0].axvline(salary['Salary'].median(),linestyle='dashed')\n",
        "ax[0].set_title('Highest Salary Paying Countries')\n",
        "ax[0].set_xlabel('')\n",
        "max_coun=salary.groupby('Country')['Salary'].median().to_frame()\n",
        "max_coun=max_coun[max_coun.index.isin(resp_coun.index)]\n",
        "max_coun.sort_values(by='Salary',ascending=True).plot.barh(width=0.8,ax=ax[1],color=sns.color_palette('RdYlGn'))\n",
        "ax[1].axvline(salary['Salary'].median(),linestyle='dashed')\n",
        "ax[1].set_title('Compensation of Top 15 Respondent Countries')\n",
        "ax[1].set_xlabel('')\n",
        "ax[1].set_ylabel('')\n",
        "plt.subplots_adjust(wspace=0.8)\n",
        "plt.show()"
      ],
      "execution_count": null,
      "outputs": []
    },
    {
      "cell_type": "code",
      "metadata": {
        "id": "OHHbGXjTyVYU"
      },
      "source": [
        ""
      ],
      "execution_count": null,
      "outputs": []
    }
  ]
}