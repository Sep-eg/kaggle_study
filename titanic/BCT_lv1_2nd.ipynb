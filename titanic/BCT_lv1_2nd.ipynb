{
  "nbformat": 4,
  "nbformat_minor": 0,
  "metadata": {
    "colab": {
      "name": "BCT_lv1_2nd.ipynb",
      "private_outputs": true,
      "provenance": [],
      "toc_visible": true,
      "authorship_tag": "ABX9TyM8pBIOJAngozG2fU4iOHyG",
      "include_colab_link": true
    },
    "kernelspec": {
      "name": "python3",
      "display_name": "Python 3"
    },
    "language_info": {
      "name": "python"
    }
  },
  "cells": [
    {
      "cell_type": "markdown",
      "metadata": {
        "id": "view-in-github",
        "colab_type": "text"
      },
      "source": [
        "<a href=\"https://colab.research.google.com/github/Sep-eg/kagglestudy/blob/main/titanic/BCT_lv1_2nd.ipynb\" target=\"_parent\"><img src=\"https://colab.research.google.com/assets/colab-badge.svg\" alt=\"Open In Colab\"/></a>"
      ]
    },
    {
      "cell_type": "markdown",
      "metadata": {
        "id": "orlBfFDsZVaw"
      },
      "source": [
        "#🚢 EDA To Prediction(DieTanic)\n",
        "이 노트북은 {AIB Alumni Challenge - Season2: 캐글 필사 스터디}를 위해 작성하였습니다.\n",
        "\n",
        "코드의 출처는 [Kaggle, EDA To Prediction(DieTanic)](https://www.kaggle.com/ash316/eda-to-prediction-dietanic)으로 클릭하면 이동할 수 있습니다."
      ]
    },
    {
      "cell_type": "code",
      "metadata": {
        "id": "2_LOlwZrZOBd"
      },
      "source": [
        "!mkdir -p ~/.kaggle\n",
        "!cp kaggle.json ~/.kaggle/"
      ],
      "execution_count": null,
      "outputs": []
    },
    {
      "cell_type": "code",
      "metadata": {
        "id": "y04mQI9naSG1"
      },
      "source": [
        "!kaggle competitions download -c titanic"
      ],
      "execution_count": null,
      "outputs": []
    },
    {
      "cell_type": "markdown",
      "metadata": {
        "id": "AiJjIklRaZNv"
      },
      "source": [
        "## Part1: Exploratory Data Analysis(EDA)"
      ]
    },
    {
      "cell_type": "code",
      "metadata": {
        "id": "fx00gqfTaUkJ"
      },
      "source": [
        "import numpy as np\n",
        "import pandas as pd\n",
        "import matplotlib.pyplot as plt\n",
        "import seaborn as sns\n",
        "plt.style.use('fivethirtyeight')\n",
        "import warnings\n",
        "warnings.filterwarnings('ignore')\n",
        "%matplotlib inline"
      ],
      "execution_count": null,
      "outputs": []
    },
    {
      "cell_type": "code",
      "metadata": {
        "id": "cul6IbZ1azhK"
      },
      "source": [
        "data = pd.read_csv('train.csv')"
      ],
      "execution_count": null,
      "outputs": []
    },
    {
      "cell_type": "code",
      "metadata": {
        "id": "jdK94odec3fj"
      },
      "source": [
        "print('총 관측치 수:', len(data))"
      ],
      "execution_count": null,
      "outputs": []
    },
    {
      "cell_type": "code",
      "metadata": {
        "id": "lwKS3qTJa9cK"
      },
      "source": [
        "data.head()"
      ],
      "execution_count": null,
      "outputs": []
    },
    {
      "cell_type": "code",
      "metadata": {
        "id": "EH-Tr8gga_kF"
      },
      "source": [
        "#결측치 확인\n",
        "data.isnull().sum()"
      ],
      "execution_count": null,
      "outputs": []
    },
    {
      "cell_type": "markdown",
      "metadata": {
        "id": "pgUDPzR-bFhV"
      },
      "source": [
        "Age, Cabin과 Embarked에 결측치가 있는것을 확인할 수 있습니다. 이후 처리하도록 하겠습니다."
      ]
    },
    {
      "cell_type": "code",
      "metadata": {
        "id": "TW7oH1DWbCjP"
      },
      "source": [
        "# 타겟인 Survived의 분포를 확인하기위해 시각화 합니다.\n",
        "f, ax = plt.subplots(1, 2, figsize=(18,8))\n",
        "data['Survived'].value_counts().plot.pie(explode=[0,0.1],\n",
        "                                         autopct='%1.1f%%',ax=ax[0],shadow=True)\n",
        "ax[0].set_title('Survived')\n",
        "ax[0].set_ylabel('')\n",
        "sns.countplot('Survived',data=data,ax=ax[1])\n",
        "ax[1].set_title('Survived')\n",
        "plt.show()"
      ],
      "execution_count": null,
      "outputs": []
    },
    {
      "cell_type": "markdown",
      "metadata": {
        "id": "wI9ejCSDcxb7"
      },
      "source": [
        "훈련 데이터셋의 891명의 탑승객중 38.4%, 약 350명 가량만이 살아남은 것으로 나타났습니다."
      ]
    },
    {
      "cell_type": "markdown",
      "metadata": {
        "id": "0jhNCYHJdcDK"
      },
      "source": [
        "###1.1 Type Of Features\n",
        "**Categorical Features**\n",
        "\n",
        "범주형 변수는 둘 이상으로 분류할 범주가 있는 변수입니다. 예를 들어 성별은 남성과 여성, 두 가지로 분류할 수 있는 범주형 변수입니다.\n",
        "\n",
        "특히 ***순서를 정할 수 없는 분류로 나누어진 변수***를 말합니다.\n",
        "\n",
        "**해당 데이터셋의 범주형 특성: Sex, Embarked**\n",
        "\n",
        "**Ordinal Features**\n",
        "\n",
        "순서형 변수는 범주형과 유사하지만, ***범주간의 상대적인 순서가 존재하여 정렬이 가능한 변수***입니다. 예를 들어, 높이를 높다와 낮다 두 가지의 분류로 나눈다면, 이는 정렬할 수 있는 순서형 변수입니다.\n",
        "\n",
        "**해당 데이터셋의 순서형 특성: Pclass**\n",
        "\n",
        "**Continous Features**\n",
        "\n",
        "연속형 변수는 아무런 두 점 사이 혹은 최솟값과 최댓값의 사이에서 취할 수 있는 값을 가진 변수를 말합니다.\n",
        "\n",
        "**해당 데이터셋의 연속형 특성: Age**\n"
      ]
    },
    {
      "cell_type": "markdown",
      "metadata": {
        "id": "rUkgOgDHiOEe"
      },
      "source": [
        "###1.2 Analysing The Features"
      ]
    },
    {
      "cell_type": "markdown",
      "metadata": {
        "id": "zeFe4p-PiUd2"
      },
      "source": [
        "####1.2.1 Sex-> Categorical Feature"
      ]
    },
    {
      "cell_type": "code",
      "metadata": {
        "id": "QxGUTEoMcLES"
      },
      "source": [
        "data.groupby(['Sex', 'Survived'])['Survived'].count()"
      ],
      "execution_count": null,
      "outputs": []
    },
    {
      "cell_type": "code",
      "metadata": {
        "id": "TGUyNpA8ikvz"
      },
      "source": [
        "f, ax = plt.subplots(1, 2, figsize=(18,8))\n",
        "data[['Sex', 'Survived']].groupby(['Sex']).mean().plot.bar(ax=ax[0])\n",
        "ax[0].set_title('Survived vs Sex')\n",
        "sns.countplot('Sex', hue='Survived', data=data, ax=ax[1])\n",
        "ax[1].set_title('Sex:Survived vs Dead')\n",
        "plt.show()"
      ],
      "execution_count": null,
      "outputs": []
    },
    {
      "cell_type": "markdown",
      "metadata": {
        "id": "0hIUmBZtjRUI"
      },
      "source": [
        "전체 배의 탑승자는 남성이 여성에 비해 훨씬 많습니다. 하지만 생존자의 경우 여성의 비율이 훨씬 높으며, 여성의 생존률은 약 75%에 달하지만, 남성의 생존률은 약 18~19%입니다.\n",
        "\n",
        "모델링에 매우 중요한 특성일 것으로 생각되며 다른 특성도 살펴보겠습니다."
      ]
    },
    {
      "cell_type": "markdown",
      "metadata": {
        "id": "VY6IdoJ3kSTp"
      },
      "source": [
        "####1.2.2 Pclass->Ordinal Feature"
      ]
    },
    {
      "cell_type": "code",
      "metadata": {
        "id": "Ih1GI5GHkRGq"
      },
      "source": [
        "pd.crosstab(data.Pclass,data.Survived,margins=True).style.background_gradient(cmap='summer_r')"
      ],
      "execution_count": null,
      "outputs": []
    },
    {
      "cell_type": "code",
      "metadata": {
        "id": "ZlRTRzGcjAv4"
      },
      "source": [
        "f, ax = plt.subplots(1,2, figsize=(18,8))\n",
        "data['Pclass'].value_counts().plot.bar(color=['#CD7F32','#FFDF00','#D3D3D3'], ax=ax[0])\n",
        "ax[0].set_title('Number Of Passengers By Pclass')\n",
        "ax[0].set_ylabel('Count')\n",
        "sns.countplot('Pclass', hue='Survived', data=data, ax=ax[1])\n",
        "ax[1].set_title('Pclass:Survived vs Dead')\n",
        "plt.show()"
      ],
      "execution_count": null,
      "outputs": []
    },
    {
      "cell_type": "markdown",
      "metadata": {
        "id": "6eWPcLxvmQBu"
      },
      "source": [
        "탑승권 클래스가 높을수록 생존률이 높은 것을 확인할 수 있습니다."
      ]
    },
    {
      "cell_type": "code",
      "metadata": {
        "id": "jg5jV-F2l8jS"
      },
      "source": [
        "pd.crosstab([data.Sex, data.Survived], data.Pclass, margins=True).style.background_gradient(cmap='summer_r')"
      ],
      "execution_count": null,
      "outputs": []
    },
    {
      "cell_type": "code",
      "metadata": {
        "id": "qBw473vJmjgI"
      },
      "source": [
        "sns.factorplot('Pclass', 'Survived', hue='Sex', data=data)"
      ],
      "execution_count": null,
      "outputs": []
    },
    {
      "cell_type": "markdown",
      "metadata": {
        "id": "fPkDtJfsmzDl"
      },
      "source": [
        "모든 클래스에서 여성의 생존률이 남성에 비해 높은것으로 나타났습니다.\n",
        "\n",
        "특히 여성이면서 Pclass가 1인 경우 생존률이 약 95~96%로 매우 높았습니다."
      ]
    },
    {
      "cell_type": "markdown",
      "metadata": {
        "id": "db5KTpa0nUCy"
      },
      "source": [
        "####1.2.3 Age->Continous Feature"
      ]
    },
    {
      "cell_type": "code",
      "metadata": {
        "id": "OM5j1LEemtw4"
      },
      "source": [
        "print('Oldest Passenger was of:',data['Age'].max(),'Years')\n",
        "print('Youngest Passenger was of:',data['Age'].min(),'Years')\n",
        "print('Average Age on the ship:',data['Age'].mean(),'Years')"
      ],
      "execution_count": null,
      "outputs": []
    },
    {
      "cell_type": "code",
      "metadata": {
        "id": "FkMNH-ibna1r"
      },
      "source": [
        "f,ax=plt.subplots(1,2,figsize=(18,8))\n",
        "sns.violinplot(\"Pclass\",\"Age\", hue=\"Survived\", data=data,split=True,ax=ax[0])\n",
        "ax[0].set_title('Pclass and Age vs Survived')\n",
        "ax[0].set_yticks(range(0,110,10))\n",
        "sns.violinplot(\"Sex\",\"Age\", hue=\"Survived\", data=data,split=True,ax=ax[1])\n",
        "ax[1].set_title('Sex and Age vs Survived')\n",
        "ax[1].set_yticks(range(0,110,10))\n",
        "plt.show()"
      ],
      "execution_count": null,
      "outputs": []
    },
    {
      "cell_type": "code",
      "metadata": {
        "id": "8s3DdguTn9_W"
      },
      "source": [
        ""
      ],
      "execution_count": null,
      "outputs": []
    }
  ]
}